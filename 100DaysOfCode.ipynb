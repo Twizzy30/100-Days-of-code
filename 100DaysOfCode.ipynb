{
 "cells": [
  {
   "cell_type": "markdown",
   "id": "a9a402bc",
   "metadata": {},
   "source": [
    "### Day 1"
   ]
  },
  {
   "cell_type": "code",
   "execution_count": 33,
   "id": "9f8e4fdb",
   "metadata": {},
   "outputs": [
    {
     "name": "stdout",
     "output_type": "stream",
     "text": [
      "Day 1 - Python Print Function\n",
      "The function is declared like this:\n",
      "print('what to print')\n"
     ]
    }
   ],
   "source": [
    "print(\"Day 1 - Python Print Function\")\n",
    "print(\"The function is declared like this:\")\n",
    "print(\"print('what to print')\")"
   ]
  },
  {
   "cell_type": "code",
   "execution_count": 34,
   "id": "0e7b4168",
   "metadata": {},
   "outputs": [
    {
     "name": "stdout",
     "output_type": "stream",
     "text": [
      "Hello\n",
      "World\n"
     ]
    }
   ],
   "source": [
    "print('Hello\\nWorld')"
   ]
  },
  {
   "cell_type": "code",
   "execution_count": 35,
   "id": "db7aab4a",
   "metadata": {},
   "outputs": [
    {
     "name": "stdout",
     "output_type": "stream",
     "text": [
      "Hello world\n",
      " Hello World\n",
      "  Hello world \n"
     ]
    }
   ],
   "source": [
    "print('Hello world\\n Hello World\\n  Hello world ')"
   ]
  },
  {
   "cell_type": "code",
   "execution_count": 36,
   "id": "dc29c396",
   "metadata": {},
   "outputs": [
    {
     "name": "stdout",
     "output_type": "stream",
     "text": [
      "Day 1 - String Manipulation\n",
      "String Concatenation is done with the \" + \" sign.\n",
      "e.g. print(\"Hello \" + \"world\")\n",
      "New lines can be created with a backlash and n.\n"
     ]
    }
   ],
   "source": [
    "print(\"Day 1 - String Manipulation\")\n",
    "print('String Concatenation is done with the \" + \" sign.')\n",
    "print('e.g. print(\"Hello \" + \"world\")')\n",
    "print((\"New lines can be created with a backlash and n.\"))"
   ]
  },
  {
   "cell_type": "code",
   "execution_count": 38,
   "id": "00523ee6",
   "metadata": {},
   "outputs": [
    {
     "name": "stdout",
     "output_type": "stream",
     "text": [
      "What is your name? Oluwatobi\n",
      "Hello Oluwatobi!\n"
     ]
    }
   ],
   "source": [
    "print(\"Hello \" + input(\"What is your name? \") + \"!\")"
   ]
  },
  {
   "cell_type": "code",
   "execution_count": 1,
   "id": "97ed2055",
   "metadata": {},
   "outputs": [
    {
     "name": "stdout",
     "output_type": "stream",
     "text": [
      "kay\n"
     ]
    }
   ],
   "source": [
    "print(\"kay\")"
   ]
  },
  {
   "cell_type": "code",
   "execution_count": null,
   "id": "f32e9c24",
   "metadata": {},
   "outputs": [],
   "source": []
  },
  {
   "cell_type": "code",
   "execution_count": 2,
   "id": "7c48c3f5",
   "metadata": {},
   "outputs": [
    {
     "name": "stdout",
     "output_type": "stream",
     "text": [
      "What is your name? Oluwatobi\n"
     ]
    },
    {
     "data": {
      "text/plain": [
       "'Oluwatobi'"
      ]
     },
     "execution_count": 2,
     "metadata": {},
     "output_type": "execute_result"
    }
   ],
   "source": [
    "input(\"What is your name? \")"
   ]
  },
  {
   "cell_type": "code",
   "execution_count": 39,
   "id": "4ba85f9f",
   "metadata": {},
   "outputs": [
    {
     "name": "stdout",
     "output_type": "stream",
     "text": [
      "What are your names? Oluwatobi gbenga jacob\n",
      "22\n"
     ]
    }
   ],
   "source": [
    "print( len( input(\"What are your names? \")))"
   ]
  },
  {
   "cell_type": "code",
   "execution_count": 12,
   "id": "d67337e7",
   "metadata": {
    "scrolled": true
   },
   "outputs": [
    {
     "name": "stdout",
     "output_type": "stream",
     "text": [
      "What is your name? Shola\n",
      "5\n"
     ]
    }
   ],
   "source": [
    "n = input(\"What is your name? \")\n",
    "length = len(n)\n",
    "print(length)"
   ]
  },
  {
   "cell_type": "code",
   "execution_count": 5,
   "id": "dc7f7b60",
   "metadata": {},
   "outputs": [
    {
     "data": {
      "text/plain": [
       "9"
      ]
     },
     "execution_count": 5,
     "metadata": {},
     "output_type": "execute_result"
    }
   ],
   "source": [
    "len(n)"
   ]
  },
  {
   "cell_type": "code",
   "execution_count": 6,
   "id": "50f990d9",
   "metadata": {},
   "outputs": [
    {
     "data": {
      "text/plain": [
       "'Oluwatobi'"
      ]
     },
     "execution_count": 6,
     "metadata": {},
     "output_type": "execute_result"
    }
   ],
   "source": [
    "n "
   ]
  },
  {
   "cell_type": "code",
   "execution_count": 7,
   "id": "75748751",
   "metadata": {},
   "outputs": [
    {
     "name": "stdout",
     "output_type": "stream",
     "text": [
      "Oluwatobi\n"
     ]
    }
   ],
   "source": [
    "print(n)"
   ]
  },
  {
   "cell_type": "code",
   "execution_count": 8,
   "id": "5b4dfa35",
   "metadata": {},
   "outputs": [
    {
     "name": "stdout",
     "output_type": "stream",
     "text": [
      "9\n"
     ]
    }
   ],
   "source": [
    "print( len(n))"
   ]
  },
  {
   "cell_type": "code",
   "execution_count": 10,
   "id": "4eadae71",
   "metadata": {},
   "outputs": [
    {
     "name": "stdout",
     "output_type": "stream",
     "text": [
      "What is your name? Oluwatobi\n",
      "9\n"
     ]
    }
   ],
   "source": [
    "print( len( input(\"What is your name? \")))"
   ]
  },
  {
   "cell_type": "code",
   "execution_count": 40,
   "id": "b1f71972",
   "metadata": {},
   "outputs": [
    {
     "name": "stdout",
     "output_type": "stream",
     "text": [
      "a: 2\n",
      "b: 3\n"
     ]
    }
   ],
   "source": [
    "a = input(\"a: \")\n",
    "b = input(\"b: \")\n",
    "c = a \n",
    "a = b\n",
    "b = c"
   ]
  },
  {
   "cell_type": "code",
   "execution_count": 25,
   "id": "da175319",
   "metadata": {},
   "outputs": [
    {
     "name": "stdout",
     "output_type": "stream",
     "text": [
      "6\n",
      "4\n"
     ]
    }
   ],
   "source": [
    "print(a)\n",
    "print(b)"
   ]
  },
  {
   "cell_type": "markdown",
   "id": "8183540d",
   "metadata": {},
   "source": [
    "### Band Name Generation"
   ]
  },
  {
   "cell_type": "code",
   "execution_count": 32,
   "id": "fe9d90b3",
   "metadata": {},
   "outputs": [
    {
     "name": "stdout",
     "output_type": "stream",
     "text": [
      "Welcome to TObbyjay Name Generator website!\n",
      "What's the name of your city?\n",
      " Akoka\n",
      "What's the name of your pet?\n",
      " booski\n",
      "Your band name could be Akoka booski\n"
     ]
    }
   ],
   "source": [
    "#1. Create a greeting for your program.\n",
    "print(\"Welcome to TObbyjay Name Generator website!\")\n",
    "\n",
    "#2. Ask the user for the city that they grew up in.\n",
    "city_name = input(\"What's the name of your city?\\n \")\n",
    "\n",
    "#3. Ask the user for the name of their pet \n",
    "pet_name = input(\"What's the name of your pet?\\n \")\n",
    "\n",
    "#4. Combine the name of their city and pet and show them their band name\n",
    "print(\"Your band name could be \" + city_name + \" \" + pet_name)\n",
    "\n",
    "#5. Make sure the input cursor showson a new line, see the example at:\n"
   ]
  },
  {
   "cell_type": "markdown",
   "id": "1f06f452",
   "metadata": {},
   "source": [
    "### Day 2"
   ]
  },
  {
   "cell_type": "code",
   "execution_count": null,
   "id": "1d063f8d",
   "metadata": {},
   "outputs": [],
   "source": []
  }
 ],
 "metadata": {
  "kernelspec": {
   "display_name": "Python 3 (ipykernel)",
   "language": "python",
   "name": "python3"
  },
  "language_info": {
   "codemirror_mode": {
    "name": "ipython",
    "version": 3
   },
   "file_extension": ".py",
   "mimetype": "text/x-python",
   "name": "python",
   "nbconvert_exporter": "python",
   "pygments_lexer": "ipython3",
   "version": "3.9.12"
  }
 },
 "nbformat": 4,
 "nbformat_minor": 5
}
